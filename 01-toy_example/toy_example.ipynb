{
 "cells": [
  {
   "cell_type": "code",
   "execution_count": null,
   "id": "0",
   "metadata": {},
   "outputs": [],
   "source": [
    "# Initial import and mode selection\n",
    "import eradiate\n",
    "\n",
    "eradiate.set_mode(\"mono\")"
   ]
  },
  {
   "cell_type": "code",
   "execution_count": null,
   "id": "1",
   "metadata": {},
   "outputs": [],
   "source": [
    "# List available modes\n",
    "eradiate.modes()"
   ]
  },
  {
   "cell_type": "code",
   "execution_count": null,
   "id": "2",
   "metadata": {},
   "outputs": [],
   "source": [
    "# Show repr without notebook extension\n",
    "exp = eradiate.experiments.AtmosphereExperiment()\n",
    "exp"
   ]
  },
  {
   "cell_type": "code",
   "execution_count": null,
   "id": "3",
   "metadata": {},
   "outputs": [],
   "source": [
    "# Show repr with notebook extension\n",
    "%load_ext eradiate.notebook\n",
    "exp"
   ]
  },
  {
   "cell_type": "code",
   "execution_count": null,
   "id": "4",
   "metadata": {},
   "outputs": [],
   "source": [
    "exp = eradiate.experiments.AtmosphereExperiment(\n",
    "    geometry=eradiate.scenes.geometry.PlaneParallelGeometry(),\n",
    "    atmosphere=eradiate.scenes.atmosphere.MolecularAtmosphere(),\n",
    ")\n",
    "exp"
   ]
  },
  {
   "cell_type": "code",
   "execution_count": null,
   "id": "5",
   "metadata": {},
   "outputs": [],
   "source": [
    "# Demonstrate unit interpretation\n",
    "eradiate.scenes.geometry.SphericalShellGeometry(toa_altitude=120e3)"
   ]
  },
  {
   "cell_type": "code",
   "execution_count": null,
   "id": "6",
   "metadata": {},
   "outputs": [],
   "source": [
    "# Run very basic simulation\n",
    "exp = eradiate.experiments.AtmosphereExperiment(\n",
    "    atmosphere={\"type\": \"molecular\"},\n",
    "    surface={\"type\": \"rpv\"},\n",
    "    measures={\n",
    "        \"type\": \"mdistant\",\n",
    "        \"construct\": \"hplane\",\n",
    "        \"azimuth\": 0.0,\n",
    "        \"zeniths\": [-75, -60, -45, -30, -15, -0, 15, 30, 45, 60, 75],\n",
    "    },\n",
    "    illumination={\n",
    "        \"type\": \"directional\",\n",
    "        \"zenith\": 30,\n",
    "        \"azimuth\": 0,\n",
    "    },\n",
    ")\n",
    "result = eradiate.run(exp)\n",
    "result"
   ]
  },
  {
   "cell_type": "code",
   "execution_count": null,
   "id": "7",
   "metadata": {},
   "outputs": [],
   "source": [
    "# Very basic plotting\n",
    "result.brf.plot(x=\"vza\")"
   ]
  }
 ],
 "metadata": {
  "kernelspec": {
   "display_name": "eradiate-training-20241112",
   "language": "python",
   "name": "python3"
  },
  "language_info": {
   "codemirror_mode": {
    "name": "ipython",
    "version": 3
   },
   "file_extension": ".py",
   "mimetype": "text/x-python",
   "name": "python",
   "nbconvert_exporter": "python",
   "pygments_lexer": "ipython3",
   "version": "3.9.20"
  }
 },
 "nbformat": 4,
 "nbformat_minor": 5
}
