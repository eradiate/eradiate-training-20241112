{
 "cells": [
  {
   "cell_type": "code",
   "execution_count": null,
   "metadata": {},
   "outputs": [],
   "source": [
    "%reload_ext eradiate.notebook.tutorials"
   ]
  },
  {
   "cell_type": "code",
   "execution_count": null,
   "metadata": {},
   "outputs": [],
   "source": [
    "%load_ext eradiate"
   ]
  },
  {
   "cell_type": "code",
   "execution_count": null,
   "metadata": {},
   "outputs": [],
   "source": [
    "import eradiate\n",
    "\n",
    "eradiate.set_mode(\"mono_single\")\n",
    "from eradiate import unit_registry as ureg\n",
    "from eradiate import scenes as ertsc\n",
    "import mitsuba as mi\n",
    "import drjit as dr\n",
    "\n",
    "assert (eradiate.__version__, mi.__version__, dr.__version__) == (\n",
    "    \"0.29.1\",\n",
    "    \"3.5.2\",\n",
    "    \"0.4.6\",\n",
    ")\n",
    "import matplotlib.pyplot as plt\n",
    "import numpy as np\n",
    "import xarray as xr"
   ]
  },
  {
   "cell_type": "code",
   "execution_count": null,
   "metadata": {},
   "outputs": [],
   "source": [
    "particles_layer = ertsc.atmosphere.ParticleLayer(\n",
    "    distribution=dict(type=\"exponential\"),\n",
    ")\n",
    "atmosphere = ertsc.atmosphere.HeterogeneousAtmosphere(\n",
    "    molecular_atmosphere=ertsc.atmosphere.MolecularAtmosphere(),\n",
    "    particle_layers=[particles_layer],\n",
    ")"
   ]
  },
  {
   "cell_type": "markdown",
   "metadata": {},
   "source": [
    "## Spectral properties modification\n",
    "\n",
    "The RAMI-V test cases use constant reflectance properties for 14 different spectral bands. While this setup is suitable for defining a consistent benchmark framework, easy to implement and evaluate over multiple models, it may lack the necessary accuracy to represent a specific realistic problem. In particular, the Eradiate scene loader interpolates the spectral properties of the RAMI-V benchmark and thus deviates from the original specification. Users may also need to feed their own reflectance values depending on their own use case. The following section focuses on the modifcation of the `savannah_pre_fire` [1] test case using one-off, more realistic datasets of reflectance for the scene objects."
   ]
  },
  {
   "cell_type": "code",
   "execution_count": null,
   "metadata": {},
   "outputs": [],
   "source": [
    "reflectance_dataset = xr.load_dataset(\"./data/savannah_pre_fire_reflectance_spectra.nc\")\n",
    "reflectance_dataset.to_dataframe().plot()"
   ]
  },
  {
   "cell_type": "markdown",
   "metadata": {},
   "source": [
    "The `load_rami_scenario` function allows to pass an extra dictionary of replacement values for most of the scene's parameters before they are loaded into Eradiate. This dictionary is built using the ids of the different `InstancedElement` composing the scene, and recursively updates the sub-components that are identified by id. For instance, to modify a *grass* element, the following dictionary will allow to update the reflectance of the scene element with id `measured_stem` contained in the `InstanceElement` of id `grass1`: "
   ]
  },
  {
   "cell_type": "code",
   "execution_count": null,
   "metadata": {},
   "outputs": [],
   "source": [
    "ex = {\n",
    "    \"grass1\": {\n",
    "        \"measured_stem\": {\n",
    "            \"reflectance\": {\n",
    "                \"wavelengths\": reflectance_dataset.dry_grass_reflectance.w,\n",
    "                \"values\": reflectance_dataset.dry_grass_reflectance.values,\n",
    "                \"type\": \"interpolated\",\n",
    "            },\n",
    "        },\n",
    "    }\n",
    "}"
   ]
  },
  {
   "cell_type": "markdown",
   "metadata": {},
   "source": [
    "Since this type of modification requires knowledge of the 3D scene hierarchical structure in order to implement the dictionary, the following example is provided."
   ]
  },
  {
   "cell_type": "code",
   "execution_count": null,
   "metadata": {},
   "outputs": [],
   "source": [
    "bark_spectrum = {\n",
    "    \"wavelengths\": reflectance_dataset.bark_reflectance.w,\n",
    "    \"values\": reflectance_dataset.bark_reflectance.values,\n",
    "    \"type\": \"interpolated\",\n",
    "}\n",
    "\n",
    "sav_pre_spectral_data = (\n",
    "    {\n",
    "        \"ground\": {\n",
    "            \"reflectance\": {\n",
    "                \"wavelengths\": reflectance_dataset.bright_soil_reflectance.w,\n",
    "                \"values\": reflectance_dataset.bright_soil_reflectance.values,\n",
    "                \"type\": \"interpolated\",\n",
    "            }\n",
    "        }\n",
    "    }\n",
    "    | {\n",
    "        f\"grass{idx}\": {\n",
    "            \"measured_stem\": {\n",
    "                \"reflectance\": {\n",
    "                    \"wavelengths\": reflectance_dataset.dry_grass_reflectance.w,\n",
    "                    \"values\": reflectance_dataset.dry_grass_reflectance.values,\n",
    "                    \"type\": \"interpolated\",\n",
    "                }\n",
    "            },\n",
    "        }\n",
    "        for idx in range(0, 10)\n",
    "    }\n",
    "    | {\n",
    "        f\"combretum_leafoff{idx}\": {\n",
    "            \"measured_trunk\": {\"reflectance\": bark_spectrum},\n",
    "            \"measured_branch\": {\"reflectance\": bark_spectrum},\n",
    "            \"Bough\": {\"reflectance\": bark_spectrum},\n",
    "        }\n",
    "        for idx in range(1, 6)\n",
    "    }\n",
    "    | {\n",
    "        f\"combretum_leafoff{idx}_flat\": {\n",
    "            \"measured_trunk\": {\n",
    "                \"reflectance\": bark_spectrum,\n",
    "            },\n",
    "            \"measured_branch\": {\n",
    "                \"reflectance\": bark_spectrum,\n",
    "            },\n",
    "            \"Bough\": {\n",
    "                \"reflectance\": bark_spectrum,\n",
    "            },\n",
    "        }\n",
    "        for idx in range(1, 6)\n",
    "    }\n",
    "    | {\n",
    "        f\"combretum_leafon{idx}\": {\n",
    "            \"Leaf1\": {\n",
    "                \"reflectance\": {\n",
    "                    \"wavelengths\": reflectance_dataset.leaves_reflectance.w,\n",
    "                    \"values\": reflectance_dataset.leaves_reflectance.values,\n",
    "                    \"type\": \"interpolated\",\n",
    "                }\n",
    "            },\n",
    "            \"measured_trunk\": {\n",
    "                \"reflectance\": bark_spectrum,\n",
    "            },\n",
    "            \"measured_branch\": {\n",
    "                \"reflectance\": bark_spectrum,\n",
    "            },\n",
    "            \"Bough\": {\n",
    "                \"reflectance\": bark_spectrum,\n",
    "            },\n",
    "        }\n",
    "        for idx in range(1, 3)\n",
    "    }\n",
    "    | {\n",
    "        f\"combretum_leafon{idx}_flat\": {\n",
    "            \"Leaf1\": {\n",
    "                \"reflectance\": {\n",
    "                    \"wavelengths\": reflectance_dataset.leaves_reflectance.w,\n",
    "                    \"values\": reflectance_dataset.leaves_reflectance.values,\n",
    "                    \"type\": \"interpolated\",\n",
    "                }\n",
    "            },\n",
    "            \"measured_trunk\": {\n",
    "                \"reflectance\": bark_spectrum,\n",
    "            },\n",
    "            \"measured_branch\": {\n",
    "                \"reflectance\": bark_spectrum,\n",
    "            },\n",
    "            \"Bough\": {\n",
    "                \"reflectance\": bark_spectrum,\n",
    "            },\n",
    "        }\n",
    "        for idx in range(1, 3)\n",
    "    }\n",
    "    | {\n",
    "        f\"merula{idx}\": {\n",
    "            \"Leaf1\": {\n",
    "                \"reflectance\": {\n",
    "                    \"wavelengths\": reflectance_dataset.leaves_reflectance.w,\n",
    "                    \"values\": reflectance_dataset.leaves_reflectance.values,\n",
    "                    \"type\": \"interpolated\",\n",
    "                }\n",
    "            },\n",
    "            \"measured_trunk\": {\n",
    "                \"reflectance\": bark_spectrum,\n",
    "            },\n",
    "            \"measured_branch\": {\n",
    "                \"reflectance\": bark_spectrum,\n",
    "            },\n",
    "            \"Bough\": {\n",
    "                \"reflectance\": bark_spectrum,\n",
    "            },\n",
    "        }\n",
    "        for idx in range(1, 5)\n",
    "    }\n",
    ")"
   ]
  },
  {
   "cell_type": "code",
   "execution_count": null,
   "metadata": {},
   "outputs": [],
   "source": [
    "canopy_dict = ertsc.biosphere.load_rami_scenario(\"HET50_SAV_PRE\")\n",
    "canopy_dict_mod = ertsc.biosphere.load_rami_scenario(\n",
    "    \"HET50_SAV_PRE\", spectral_data=sav_pre_spectral_data\n",
    ")"
   ]
  },
  {
   "cell_type": "code",
   "execution_count": null,
   "metadata": {},
   "outputs": [],
   "source": [
    "rgb_measure_dict = {\n",
    "    \"type\": \"perspective\",\n",
    "    \"film_resolution\": (256, 256),\n",
    "    \"origin\": [2.0, 2.0, 2.0],\n",
    "    \"target\": [0.0, 0.0, 2.2],\n",
    "    \"up\": [0.0, 0.0, 1.0],\n",
    "    \"sampler\": \"ldsampler\",\n",
    "    \"fov\": 50.0,\n",
    "    \"spp\": 64,\n",
    "    \"srf\": {\n",
    "        \"type\": \"multi_delta\",\n",
    "        \"wavelengths\": np.array([660.0, 550.0, 440.0]) * ureg.nm,\n",
    "    },\n",
    "}\n",
    "\n",
    "\n",
    "exp = eradiate.experiments.CanopyAtmosphereExperiment(\n",
    "    **canopy_dict,\n",
    "    atmosphere=atmosphere,\n",
    "    measures=rgb_measure_dict,\n",
    "    illumination={\"type\": \"directional\", \"zenith\": 45.0, \"azimuth\": 350.0},\n",
    ")"
   ]
  },
  {
   "cell_type": "code",
   "execution_count": null,
   "metadata": {},
   "outputs": [],
   "source": [
    "eradiate.run(exp)"
   ]
  },
  {
   "cell_type": "markdown",
   "metadata": {},
   "source": [
    "A RGB image can be created from the output dataset."
   ]
  },
  {
   "cell_type": "code",
   "execution_count": null,
   "metadata": {},
   "outputs": [],
   "source": [
    "img_dat = eradiate.xarray.interp.dataarray_to_rgb(\n",
    "    exp.results[\"measure\"].radiance, channels=[(\"w\", 660), (\"w\", 550), (\"w\", 440)]\n",
    ").squeeze()\n",
    "plt.imshow(img_dat)"
   ]
  },
  {
   "cell_type": "markdown",
   "metadata": {},
   "source": [
    "Let's simulate the modified scene:"
   ]
  },
  {
   "cell_type": "code",
   "execution_count": null,
   "metadata": {},
   "outputs": [],
   "source": [
    "exp_mod = eradiate.experiments.CanopyAtmosphereExperiment(\n",
    "    **canopy_dict_mod,\n",
    "    atmosphere=atmosphere,\n",
    "    measures=rgb_measure_dict,\n",
    "    illumination={\"type\": \"directional\", \"zenith\": 45.0, \"azimuth\": 350.0},\n",
    ")\n",
    "\n",
    "eradiate.run(exp_mod)\n",
    "img_dat_mod = eradiate.xarray.interp.dataarray_to_rgb(\n",
    "    exp_mod.results[\"measure\"].radiance, channels=[(\"w\", 660), (\"w\", 550), (\"w\", 440)]\n",
    ").squeeze()"
   ]
  },
  {
   "cell_type": "code",
   "execution_count": null,
   "metadata": {},
   "outputs": [],
   "source": [
    "fig, [ax1, ax2] = plt.subplots(1, 2, figsize=(10, 5))\n",
    "\n",
    "ax1.imshow(img_dat)\n",
    "ax2.imshow(img_dat_mod)\n",
    "\n",
    "plt.suptitle(\"Savannah Pre Fire Scene\")\n",
    "ax1.set_title(\"Interpolated Monochromatic Reflectance\")\n",
    "ax2.set_title(\"Disney et al. [1] Reflectance Datasets\")\n",
    "\n",
    "plt.savefig(\"savannah_pre_fire_comparison.png\")"
   ]
  },
  {
   "cell_type": "markdown",
   "metadata": {},
   "source": [
    "[1] M.I. Disney, P. Lewis, J. Gomez-Dans, D. Roy, M.J. Wooster, D. Lajas, 3D radiative transfer modelling of fire impacts on a two-layer savanna system, Remote Sensing of Environment, Volume 115, Issue 8, 2011, Pages 1866-1881, ISSN 0034-4257, https://doi.org/10.1016/j.rse.2011.03.010. (https://www.sciencedirect.com/science/article/pii/S0034425711000873)\n"
   ]
  },
  {
   "cell_type": "markdown",
   "metadata": {},
   "source": []
  }
 ],
 "metadata": {
  "kernelspec": {
   "display_name": "base",
   "language": "python",
   "name": "python3"
  },
  "language_info": {
   "codemirror_mode": {
    "name": "ipython",
    "version": 3
   },
   "file_extension": ".py",
   "mimetype": "text/x-python",
   "name": "python",
   "nbconvert_exporter": "python",
   "pygments_lexer": "ipython3",
   "version": "3.12.4"
  }
 },
 "nbformat": 4,
 "nbformat_minor": 2
}
