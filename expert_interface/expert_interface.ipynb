{
 "cells": [
  {
   "cell_type": "code",
   "execution_count": null,
   "id": "0",
   "metadata": {},
   "outputs": [],
   "source": [
    "%reload_ext eradiate.notebook\n",
    "import matplotlib.pyplot as plt\n",
    "import mitsuba as mi\n",
    "\n",
    "import eradiate\n",
    "from eradiate import KernelContext\n",
    "from eradiate import unit_registry as ureg\n",
    "from eradiate.kernel import scene_parameter\n",
    "from eradiate.xarray.interp import dataarray_to_rgb\n",
    "\n",
    "eradiate.set_mode(\"mono\")"
   ]
  },
  {
   "cell_type": "code",
   "execution_count": null,
   "id": "1",
   "metadata": {},
   "outputs": [],
   "source": [
    "# Declare a scene parameter\n",
    "@scene_parameter\n",
    "def spectrum_lambertian(ctx: KernelContext):\n",
    "    if ctx.si.w == 440.0 * ureg.nm:\n",
    "        return 0.1\n",
    "    elif ctx.si.w == 550.0 * ureg.nm:\n",
    "        return 0.5\n",
    "    elif ctx.si.w == 660.0 * ureg.nm:\n",
    "        return 0.9\n",
    "    else:\n",
    "        raise RuntimeError(f\"Unsupported wavelength value {ctx.si.w = }\")\n",
    "\n",
    "\n",
    "display(spectrum_lambertian)"
   ]
  },
  {
   "cell_type": "code",
   "execution_count": null,
   "id": "2",
   "metadata": {},
   "outputs": [],
   "source": [
    "# Declare an Experiment with custom kdict and kpmap\n",
    "exp = eradiate.experiments.AtmosphereExperiment(\n",
    "    atmosphere={\"type\": \"molecular\"},\n",
    "    surface={\"type\": \"lambertian\"},\n",
    "    measures={\n",
    "        \"type\": \"perspective\",\n",
    "        \"origin\": [5, 5, 1],\n",
    "        \"target\": [0, 0, 0.5],\n",
    "        \"film_resolution\": (320, 240),\n",
    "        \"srf\": {\"type\": \"delta\", \"wavelengths\": [440, 550, 660]},\n",
    "    },\n",
    "    kdict={\n",
    "        \"mat_laboule\": {\"type\": \"diffuse\", \"id\": \"mat_laboule\"},\n",
    "        \"mat_lecarre\": {\"type\": \"roughplastic\", \"id\": \"mat_lecarre\"},\n",
    "        \"sphere\": {\n",
    "            \"type\": \"sphere\",\n",
    "            \"center\": [0, 0, 0],\n",
    "            \"id\": \"laboule\",\n",
    "            \"bsdf\": {\"type\": \"ref\", \"id\": \"mat_laboule\"},\n",
    "        },\n",
    "        \"square\": {\n",
    "            \"type\": \"rectangle\",\n",
    "            \"to_world\": mi.ScalarTransform4f.translate([0, 0, 0.1])\n",
    "            @ mi.ScalarTransform4f.scale(2.0),\n",
    "            \"bsdf\": {\"type\": \"ref\", \"id\": \"mat_lecarre\"},\n",
    "        },\n",
    "    },\n",
    "    kpmap={\n",
    "        \"mat_laboule.reflectance.value\": spectrum_lambertian,\n",
    "    },\n",
    ")"
   ]
  },
  {
   "cell_type": "code",
   "execution_count": null,
   "id": "3",
   "metadata": {},
   "outputs": [],
   "source": [
    "# Inspect scene parameters to check against kpmap keys\n",
    "exp.init()\n",
    "exp.mi_scene.parameters"
   ]
  },
  {
   "cell_type": "code",
   "execution_count": null,
   "id": "4",
   "metadata": {},
   "outputs": [],
   "source": [
    "# Render the scene\n",
    "result = eradiate.run(exp, spp=16)"
   ]
  },
  {
   "cell_type": "code",
   "execution_count": null,
   "id": "5",
   "metadata": {},
   "outputs": [],
   "source": [
    "img = dataarray_to_rgb(result.radiance, channels=[(\"w\", 660), (\"w\", 550), (\"w\", 440)])\n",
    "plt.axis(\"off\")\n",
    "plt.imshow(img)\n",
    "# plt.savefig(\"expert.png\", bbox_inches=\"tight\", dpi=300)"
   ]
  }
 ],
 "metadata": {
  "kernelspec": {
   "display_name": "Python 3 (ipykernel)",
   "language": "python",
   "name": "python3"
  },
  "language_info": {
   "codemirror_mode": {
    "name": "ipython",
    "version": 3
   },
   "file_extension": ".py",
   "mimetype": "text/x-python",
   "name": "python",
   "nbconvert_exporter": "python",
   "pygments_lexer": "ipython3",
   "version": "3.10.15"
  }
 },
 "nbformat": 4,
 "nbformat_minor": 5
}
